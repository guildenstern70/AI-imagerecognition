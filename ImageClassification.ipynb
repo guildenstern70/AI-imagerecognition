{
    "nbformat_minor": 1, 
    "cells": [
        {
            "execution_count": 16, 
            "cell_type": "code", 
            "metadata": {}, 
            "outputs": [], 
            "source": "import tensorflow as tf\nimport numpy as np\nfrom tensorflow import keras\nimport random"
        }, 
        {
            "execution_count": 19, 
            "cell_type": "code", 
            "metadata": {}, 
            "outputs": [
                {
                    "output_type": "stream", 
                    "name": "stdout", 
                    "text": "Loaded 60000 images.\nTest set of 10000 images.\n"
                }
            ], 
            "source": "# Load MNIST database of number images\nmnist = keras.datasets.mnist\n(x_train, y_train), (x_test, y_test) = mnist.load_data()\nhow_many_images = len(x_train)\nprint('Loaded ' + str(how_many_images) + ' images.')\nprint('Test set of ' + str(len(x_test)) + ' images.') "
        }, 
        {
            "execution_count": 29, 
            "cell_type": "code", 
            "metadata": {}, 
            "outputs": [
                {
                    "output_type": "stream", 
                    "name": "stdout", 
                    "text": "This image should be a(n) 0\n"
                }, 
                {
                    "output_type": "display_data", 
                    "data": {
                        "image/png": "[encoded data removed]", 
                        "text/plain": "<Figure size 432x288 with 1 Axes>"
                    }, 
                    "metadata": {
                        "needs_background": "light"
                    }
                }
            ], 
            "source": "# Plot one random image\nimport matplotlib.pyplot as plt\nrnd_image_index = random.randrange(0, how_many_images-1)\nplt.imshow(x_train[rnd_image_index], cmap=\"gray\")\nprint('This image should be a(n) ' + str(y_train[rnd_image_index]))"
        }, 
        {
            "execution_count": 23, 
            "cell_type": "code", 
            "metadata": {}, 
            "outputs": [], 
            "source": "# Build predictive model\n\n# 1. Normalize input from 0 to 1 instead of 0 to 255\nx_train, x_test = x_train / 255.0, x_test / 255.0"
        }, 
        {
            "execution_count": 26, 
            "cell_type": "code", 
            "metadata": {}, 
            "outputs": [], 
            "source": "# 2. Build model\nmodel = tf.keras.models.Sequential([\n  tf.keras.layers.Flatten(input_shape=(28, 28)),\n  tf.keras.layers.Dense(512, activation=tf.nn.relu),\n  tf.keras.layers.Dropout(rate=0.8),\n  tf.keras.layers.Dense(10, activation=tf.nn.softmax)\n])"
        }, 
        {
            "execution_count": 27, 
            "cell_type": "code", 
            "metadata": {}, 
            "outputs": [], 
            "source": "# 3. Compile model\nmodel.compile(optimizer='adam',\n              loss='sparse_categorical_crossentropy',\n              metrics=['accuracy'])"
        }, 
        {
            "execution_count": 28, 
            "cell_type": "code", 
            "metadata": {}, 
            "outputs": [
                {
                    "output_type": "stream", 
                    "name": "stdout", 
                    "text": "Epoch 1/5\n60000/60000 [==============================] - 32s 532us/sample - loss: 0.4375 - acc: 0.8656\nEpoch 2/5\n60000/60000 [==============================] - 31s 515us/sample - loss: 0.2703 - acc: 0.9189\nEpoch 3/5\n60000/60000 [==============================] - 31s 518us/sample - loss: 0.2357 - acc: 0.9289\nEpoch 4/5\n60000/60000 [==============================] - 31s 523us/sample - loss: 0.2172 - acc: 0.9349\nEpoch 5/5\n60000/60000 [==============================] - 31s 517us/sample - loss: 0.2106 - acc: 0.9368\n"
                }, 
                {
                    "execution_count": 28, 
                    "metadata": {}, 
                    "data": {
                        "text/plain": "<tensorflow.python.keras.callbacks.History at 0x7f6769294be0>"
                    }, 
                    "output_type": "execute_result"
                }
            ], 
            "source": "# 4. Train model\nmodel.fit(x_train, y_train, epochs=5)"
        }, 
        {
            "execution_count": 30, 
            "cell_type": "code", 
            "metadata": {}, 
            "outputs": [
                {
                    "output_type": "stream", 
                    "name": "stdout", 
                    "text": "10000/10000 [==============================] - 2s 229us/sample - loss: 0.0946 - acc: 0.9710\n"
                }, 
                {
                    "execution_count": 30, 
                    "metadata": {}, 
                    "data": {
                        "text/plain": "[0.09462085149148479, 0.971]"
                    }, 
                    "output_type": "execute_result"
                }
            ], 
            "source": "# 5. Evaluate model\nmodel.evaluate(x_test, y_test)"
        }, 
        {
            "execution_count": 70, 
            "cell_type": "code", 
            "metadata": {}, 
            "outputs": [
                {
                    "output_type": "stream", 
                    "name": "stdout", 
                    "text": "This image should be a(n) 8\n"
                }, 
                {
                    "execution_count": 70, 
                    "metadata": {}, 
                    "data": {
                        "text/plain": "<matplotlib.image.AxesImage at 0x7f6724296c50>"
                    }, 
                    "output_type": "execute_result"
                }, 
                {
                    "output_type": "display_data", 
                    "data": {
                        "image/png": "[encoded data removed]", 
                        "text/plain": "<Figure size 432x288 with 1 Axes>"
                    }, 
                    "metadata": {
                        "needs_background": "light"
                    }
                }
            ], 
            "source": "# 6. Get a random image\nrnd_image_index = random.randrange(0, how_many_images-1)\nrandom_image = x_train[rnd_image_index]\nprint('This image should be a(n) ' + str(y_train[rnd_image_index]))\nplt.imshow(random_image, cmap=\"gray\")"
        }, 
        {
            "execution_count": 72, 
            "cell_type": "code", 
            "metadata": {}, 
            "outputs": [
                {
                    "output_type": "stream", 
                    "name": "stdout", 
                    "text": "The image should be a 8 with a certainty of 99.99%\n"
                }
            ], 
            "source": "# 7. Predict\nrnd_image = np.array([random_image])\npredictions = model.predict(rnd_image)[0].tolist()\nguess = predictions.index(max(predictions))\ncertainty = \"{0:.2f}\".format(predictions[guess]*100)\nprint('The image should be a ' + str(guess) + ' with a certainty of ' + certainty + '%')"
        }, 
        {
            "execution_count": null, 
            "cell_type": "code", 
            "metadata": {}, 
            "outputs": [], 
            "source": ""
        }
    ], 
    "metadata": {
        "kernelspec": {
            "display_name": "Python 3.6", 
            "name": "python3", 
            "language": "python"
        }, 
        "language_info": {
            "mimetype": "text/x-python", 
            "nbconvert_exporter": "python", 
            "version": "3.6.8", 
            "name": "python", 
            "file_extension": ".py", 
            "pygments_lexer": "ipython3", 
            "codemirror_mode": {
                "version": 3, 
                "name": "ipython"
            }
        }
    }, 
    "nbformat": 4
}