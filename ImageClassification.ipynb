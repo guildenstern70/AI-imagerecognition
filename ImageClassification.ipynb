{
    "nbformat_minor": 1, 
    "cells": [
        {
            "source": "### Image Classification with MNIST data\n\nWe start by initially loading Python libraries", 
            "cell_type": "markdown", 
            "metadata": {}
        }, 
        {
            "execution_count": null, 
            "cell_type": "code", 
            "metadata": {}, 
            "outputs": [], 
            "source": "import tensorflow as tf\nimport numpy as np\nfrom tensorflow import keras\nimport random"
        }, 
        {
            "source": "Then we load MNIST database of number images", 
            "cell_type": "markdown", 
            "metadata": {}
        }, 
        {
            "execution_count": 3, 
            "cell_type": "code", 
            "metadata": {}, 
            "outputs": [
                {
                    "output_type": "stream", 
                    "name": "stdout", 
                    "text": "Downloading data from https://storage.googleapis.com/tensorflow/tf-keras-datasets/mnist.npz\n11493376/11490434 [==============================] - 0s 0us/step\nLoaded 60000 images.\nTest set of 10000 images.\n"
                }
            ], 
            "source": "mnist = keras.datasets.mnist\n(x_train, y_train), (x_test, y_test) = mnist.load_data()\nhow_many_images = len(x_train)\nprint('Loaded ' + str(how_many_images) + ' images.')\nprint('Test set of ' + str(len(x_test)) + ' images.') "
        }, 
        {
            "source": "Here we plot one random image:", 
            "cell_type": "markdown", 
            "metadata": {}
        }, 
        {
            "execution_count": 4, 
            "cell_type": "code", 
            "metadata": {}, 
            "outputs": [
                {
                    "output_type": "stream", 
                    "name": "stdout", 
                    "text": "This image should be a(n) 0\n"
                }
            ], 
            "source": "# Plot one random image\nimport matplotlib.pyplot as plt\nrnd_image_index = random.randrange(0, how_many_images-1)\nplt.imshow(x_train[rnd_image_index], cmap=\"gray\")\nprint('This image should be a(n) ' + str(y_train[rnd_image_index]))"
        }, 
        {
            "execution_count": 5, 
            "cell_type": "code", 
            "metadata": {}, 
            "outputs": [], 
            "source": "# Build predictive model\n\n# 1. Normalize input from 0 to 1 instead of 0 to 255\nx_train, x_test = x_train / 255.0, x_test / 255.0"
        }, 
        {
            "execution_count": 6, 
            "cell_type": "code", 
            "metadata": {}, 
            "outputs": [
                {
                    "output_type": "stream", 
                    "name": "stdout", 
                    "text": "WARNING:tensorflow:From /opt/conda/envs/Python36/lib/python3.6/site-packages/tensorflow/python/ops/resource_variable_ops.py:435: colocate_with (from tensorflow.python.framework.ops) is deprecated and will be removed in a future version.\nInstructions for updating:\nColocations handled automatically by placer.\nWARNING:tensorflow:From /opt/conda/envs/Python36/lib/python3.6/site-packages/tensorflow/python/keras/layers/core.py:143: calling dropout (from tensorflow.python.ops.nn_ops) with keep_prob is deprecated and will be removed in a future version.\nInstructions for updating:\nPlease use `rate` instead of `keep_prob`. Rate should be set to `rate = 1 - keep_prob`.\n"
                }
            ], 
            "source": "# 2. Build model\nmodel = tf.keras.models.Sequential([\n  tf.keras.layers.Flatten(input_shape=(28, 28)),\n  tf.keras.layers.Dense(512, activation=tf.nn.relu),\n  tf.keras.layers.Dropout(rate=0.8),\n  tf.keras.layers.Dense(10, activation=tf.nn.softmax)\n])"
        }, 
        {
            "execution_count": 7, 
            "cell_type": "code", 
            "metadata": {}, 
            "outputs": [], 
            "source": "# 3. Compile model\nmodel.compile(optimizer='adam',\n              loss='sparse_categorical_crossentropy',\n              metrics=['accuracy'])"
        }, 
        {
            "execution_count": 8, 
            "cell_type": "code", 
            "metadata": {}, 
            "outputs": [
                {
                    "output_type": "stream", 
                    "name": "stdout", 
                    "text": "Epoch 1/5\n60000/60000 [==============================] - 78s 1ms/sample - loss: 0.4352 - acc: 0.8656\nEpoch 2/5\n60000/60000 [==============================] - 78s 1ms/sample - loss: 0.2724 - acc: 0.9186\nEpoch 3/5\n60000/60000 [==============================] - 78s 1ms/sample - loss: 0.2396 - acc: 0.9295\nEpoch 4/5\n60000/60000 [==============================] - 78s 1ms/sample - loss: 0.2161 - acc: 0.9334\nEpoch 5/5\n60000/60000 [==============================] - 78s 1ms/sample - loss: 0.2032 - acc: 0.9396\n"
                }, 
                {
                    "execution_count": 8, 
                    "metadata": {}, 
                    "data": {
                        "text/plain": "<tensorflow.python.keras.callbacks.History at 0x7fa6a4a6b780>"
                    }, 
                    "output_type": "execute_result"
                }
            ], 
            "source": "# 4. Train model\nmodel.fit(x_train, y_train, epochs=5)"
        }, 
        {
            "execution_count": 9, 
            "cell_type": "code", 
            "metadata": {}, 
            "outputs": [
                {
                    "output_type": "stream", 
                    "name": "stdout", 
                    "text": "10000/10000 [==============================] - 6s 569us/sample - loss: 0.0978 - acc: 0.9719\n"
                }, 
                {
                    "execution_count": 9, 
                    "metadata": {}, 
                    "data": {
                        "text/plain": "[0.09778557328274473, 0.9719]"
                    }, 
                    "output_type": "execute_result"
                }
            ], 
            "source": "# 5. Evaluate model\nmodel.evaluate(x_test, y_test)"
        }, 
        {
            "execution_count": 14, 
            "cell_type": "code", 
            "metadata": {}, 
            "outputs": [
                {
                    "output_type": "stream", 
                    "name": "stdout", 
                    "text": "This image should be a(n) 1\n"
                }, 
                {
                    "execution_count": 14, 
                    "metadata": {}, 
                    "data": {
                        "text/plain": "<matplotlib.image.AxesImage at 0x7fa6982889e8>"
                    }, 
                    "output_type": "execute_result"
                }, 
                {
                    "output_type": "display_data", 
                    "data": {
                        "image/png": "[encoded data removed]", 
                        "text/plain": "<Figure size 432x288 with 1 Axes>"
                    }, 
                    "metadata": {
                        "needs_background": "light"
                    }
                }
            ], 
            "source": "# 6. Get a random image\nrnd_image_index = random.randrange(0, how_many_images-1)\nrandom_image = x_train[rnd_image_index]\nprint('This image should be a(n) ' + str(y_train[rnd_image_index]))\nplt.imshow(random_image, cmap=\"gray\")"
        }, 
        {
            "execution_count": 15, 
            "cell_type": "code", 
            "metadata": {}, 
            "outputs": [
                {
                    "output_type": "stream", 
                    "name": "stdout", 
                    "text": "The image should be a 1 with a certainty of 98.59%\n"
                }
            ], 
            "source": "# 7. Predict\nrnd_image = np.array([random_image])\npredictions = model.predict(rnd_image)[0].tolist()\nguess = predictions.index(max(predictions))\ncertainty = \"{0:.2f}\".format(predictions[guess]*100)\nprint('The image should be a ' + str(guess) + ' with a certainty of ' + certainty + '%')"
        }, 
        {
            "execution_count": null, 
            "cell_type": "code", 
            "metadata": {}, 
            "outputs": [], 
            "source": ""
        }
    ], 
    "metadata": {
        "kernelspec": {
            "display_name": "Python 3.6", 
            "name": "python3", 
            "language": "python"
        }, 
        "language_info": {
            "mimetype": "text/x-python", 
            "nbconvert_exporter": "python", 
            "version": "3.6.8", 
            "name": "python", 
            "file_extension": ".py", 
            "pygments_lexer": "ipython3", 
            "codemirror_mode": {
                "version": 3, 
                "name": "ipython"
            }
        }
    }, 
    "nbformat": 4
}